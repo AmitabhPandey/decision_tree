{
  "nbformat": 4,
  "nbformat_minor": 0,
  "metadata": {
    "colab": {
      "provenance": []
    },
    "kernelspec": {
      "name": "python3",
      "display_name": "Python 3"
    },
    "language_info": {
      "name": "python"
    }
  },
  "cells": [
    {
      "cell_type": "code",
      "source": [
        "import pandas as pd\n",
        "import numpy as np\n",
        "from sklearn.metrics import accuracy_score, confusion_matrix, classification_report\n",
        "from collections import defaultdict"
      ],
      "metadata": {
        "id": "AzB9fEk1qPTC"
      },
      "execution_count": 13,
      "outputs": []
    },
    {
      "cell_type": "code",
      "execution_count": 14,
      "metadata": {
        "colab": {
          "base_uri": "https://localhost:8080/"
        },
        "id": "u4eh9cX3ZBxm",
        "outputId": "38251741-8655-4971-d512-8efa58234240"
      },
      "outputs": [
        {
          "output_type": "stream",
          "name": "stdout",
          "text": [
            "Training Data Shape: (960, 5)\n",
            "Testing Data Shape: (411, 5)\n"
          ]
        }
      ],
      "source": [
        "# Load and shuffle dataset\n",
        "def load_and_split_dataset(file_path, train_ratio=0.7, random_seed=42):\n",
        "    data = pd.read_csv(file_path).to_numpy()\n",
        "    np.random.seed(random_seed)\n",
        "    np.random.shuffle(data)\n",
        "    train_size = int(round(len(data) * train_ratio))\n",
        "    return data[:train_size], data[train_size:]\n",
        "\n",
        "# Load dataset\n",
        "FILE_PATH = 'data_banknote_authentication.csv'\n",
        "train_data, test_data = load_and_split_dataset(FILE_PATH)\n",
        "\n",
        "print(\"Training Data Shape:\", train_data.shape)\n",
        "print(\"Testing Data Shape:\", test_data.shape)\n"
      ]
    },
    {
      "cell_type": "code",
      "source": [
        "# Gini index for impurity calculation\n",
        "def gini_index(data_points):\n",
        "    labels = data_points[:, -1]\n",
        "    if len(labels) == 0:\n",
        "        return 0\n",
        "    _, counts = np.unique(labels, return_counts=True)\n",
        "    pi = counts / len(labels)\n",
        "    return 1 - np.sum(np.square(pi))\n"
      ],
      "metadata": {
        "id": "kFJ8I3jUijaQ"
      },
      "execution_count": 15,
      "outputs": []
    },
    {
      "cell_type": "code",
      "source": [
        "# Tree node structure\n",
        "class Node:\n",
        "    def __init__(self, depth, split_feature=None, split_point=None, label=None):\n",
        "        self.depth = depth\n",
        "        self.split_feature = split_feature\n",
        "        self.split_point = split_point\n",
        "        self.label = label\n",
        "        self.left = None\n",
        "        self.right = None\n"
      ],
      "metadata": {
        "id": "jnPtrMD30LOS"
      },
      "execution_count": 16,
      "outputs": []
    },
    {
      "cell_type": "code",
      "source": [
        "# Best split finder\n",
        "def find_best_split(data_points, num_splits=1000):\n",
        "    num_features = data_points.shape[1] - 1\n",
        "    best_feature, best_split_point = None, None\n",
        "    best_loss = float('inf')\n",
        "    best_left, best_right = None, None\n",
        "\n",
        "    for i in range(num_features):\n",
        "        feature_vals = data_points[:, i]\n",
        "        min_val, max_val = np.min(feature_vals), np.max(feature_vals)\n",
        "        if max_val == min_val:\n",
        "            continue\n",
        "        splits = np.linspace(min_val, max_val, num_splits + 2)[1:-1]\n",
        "        for split_point in splits:\n",
        "            left = data_points[feature_vals <= split_point]\n",
        "            right = data_points[feature_vals > split_point]\n",
        "            if len(left) == 0 or len(right) == 0:\n",
        "                continue\n",
        "            loss = len(left) * gini_index(left) + len(right) * gini_index(right)\n",
        "            if loss < best_loss:\n",
        "                best_loss = loss\n",
        "                best_feature, best_split_point = i, split_point\n",
        "                best_left, best_right = left, right\n",
        "\n",
        "    return best_feature, best_split_point, best_left, best_right\n",
        "\n",
        "# Stopping criteria\n",
        "def should_stop(data_points, depth, max_depth, min_samples):\n",
        "    return len(data_points) < min_samples or depth >= max_depth\n"
      ],
      "metadata": {
        "id": "9RgUlFWJVrls"
      },
      "execution_count": 17,
      "outputs": []
    },
    {
      "cell_type": "code",
      "source": [
        "# Recursive tree builder\n",
        "def build_tree(data_points, depth=0, max_depth=5, min_samples=10):\n",
        "    if should_stop(data_points, depth, max_depth, min_samples):\n",
        "        labels = data_points[:, -1]\n",
        "        majority_label = np.bincount(labels.astype(int)).argmax()\n",
        "        return Node(depth, label=majority_label)\n",
        "\n",
        "    best_feature, best_split, left, right = find_best_split(data_points)\n",
        "    if best_feature is None:\n",
        "        labels = data_points[:, -1]\n",
        "        majority_label = np.bincount(labels.astype(int)).argmax()\n",
        "        return Node(depth, label=majority_label)\n",
        "\n",
        "    node = Node(depth, split_feature=best_feature, split_point=best_split)\n",
        "    node.left = build_tree(left, depth + 1, max_depth, min_samples)\n",
        "    node.right = build_tree(right, depth + 1, max_depth, min_samples)\n",
        "    return node\n",
        "\n",
        "# Build the tree\n",
        "root = build_tree(train_data, max_depth=5, min_samples=10)\n"
      ],
      "metadata": {
        "id": "8fGKvFKSXH6_"
      },
      "execution_count": 18,
      "outputs": []
    },
    {
      "cell_type": "code",
      "source": [
        "# Predict a single sample\n",
        "def predict(node, data_point):\n",
        "    if node.label is not None:\n",
        "        return node.label\n",
        "    if data_point[node.split_feature] <= node.split_point:\n",
        "        return predict(node.left, data_point)\n",
        "    else:\n",
        "        return predict(node.right, data_point)\n",
        "\n",
        "# Predict all samples\n",
        "def predict_all(root, data):\n",
        "    return [predict(root, x) for x in data]\n"
      ],
      "metadata": {
        "id": "iK3teL1hiHLl"
      },
      "execution_count": 19,
      "outputs": []
    },
    {
      "cell_type": "code",
      "source": [
        "# Evaluate model\n",
        "def evaluate_model(model, X, y, name=\"Set\"):\n",
        "    preds = predict_all(model, X)\n",
        "    acc = accuracy_score(y, preds)\n",
        "    print(f\"\\n {name} Accuracy: {acc * 100:.2f}%\")\n",
        "    print(\"Confusion Matrix:\\n\", confusion_matrix(y, preds))\n",
        "    print(\"Classification Report:\\n\", classification_report(y, preds))\n",
        "    return acc\n",
        "\n",
        "# Evaluate on train and test\n",
        "evaluate_model(root, train_data[:, :-1], train_data[:, -1], name=\"Train\")\n",
        "evaluate_model(root, test_data[:, :-1], test_data[:, -1], name=\"Test\")\n"
      ],
      "metadata": {
        "colab": {
          "base_uri": "https://localhost:8080/"
        },
        "id": "IX54LTwTiLV_",
        "outputId": "d1bf6d05-6663-4473-f4f5-9a05a0d5558d"
      },
      "execution_count": 20,
      "outputs": [
        {
          "output_type": "stream",
          "name": "stdout",
          "text": [
            "\n",
            " Train Accuracy: 98.02%\n",
            "Confusion Matrix:\n",
            " [[543   1]\n",
            " [ 18 398]]\n",
            "Classification Report:\n",
            "               precision    recall  f1-score   support\n",
            "\n",
            "         0.0       0.97      1.00      0.98       544\n",
            "         1.0       1.00      0.96      0.98       416\n",
            "\n",
            "    accuracy                           0.98       960\n",
            "   macro avg       0.98      0.98      0.98       960\n",
            "weighted avg       0.98      0.98      0.98       960\n",
            "\n",
            "\n",
            " Test Accuracy: 96.35%\n",
            "Confusion Matrix:\n",
            " [[214   3]\n",
            " [ 12 182]]\n",
            "Classification Report:\n",
            "               precision    recall  f1-score   support\n",
            "\n",
            "         0.0       0.95      0.99      0.97       217\n",
            "         1.0       0.98      0.94      0.96       194\n",
            "\n",
            "    accuracy                           0.96       411\n",
            "   macro avg       0.97      0.96      0.96       411\n",
            "weighted avg       0.96      0.96      0.96       411\n",
            "\n"
          ]
        },
        {
          "output_type": "execute_result",
          "data": {
            "text/plain": [
              "0.9635036496350365"
            ]
          },
          "metadata": {},
          "execution_count": 20
        }
      ]
    },
    {
      "cell_type": "code",
      "source": [
        "# Pretty print the tree\n",
        "def print_tree(node, indent=\"\"):\n",
        "    if node.label is not None:\n",
        "        print(indent + f\"Leaf: Predict {node.label}\")\n",
        "        return\n",
        "    print(indent + f\"[X{node.split_feature} <= {node.split_point:.4f}]\")\n",
        "    print(indent + \"--> True:\")\n",
        "    print_tree(node.left, indent + \"    \")\n",
        "    print(indent + \"--> False:\")\n",
        "    print_tree(node.right, indent + \"    \")\n",
        "\n",
        "# Print the tree\n",
        "print(\"\\n Decision Tree Structure:\")\n",
        "print_tree(root)\n"
      ],
      "metadata": {
        "colab": {
          "base_uri": "https://localhost:8080/"
        },
        "id": "3palIaRViN1v",
        "outputId": "30e47e55-f4ef-48b9-e5cf-e02e7c1b1b83"
      },
      "execution_count": 21,
      "outputs": [
        {
          "output_type": "stream",
          "name": "stdout",
          "text": [
            "\n",
            " Decision Tree Structure:\n",
            "[X0 <= 0.3111]\n",
            "--> True:\n",
            "    [X1 <= 7.5052]\n",
            "    --> True:\n",
            "        [X0 <= -0.4728]\n",
            "        --> True:\n",
            "            [X2 <= 6.0996]\n",
            "            --> True:\n",
            "                [X0 <= -6.7324]\n",
            "                --> True:\n",
            "                    Leaf: Predict 1\n",
            "                --> False:\n",
            "                    Leaf: Predict 1\n",
            "            --> False:\n",
            "                [X1 <= -4.7657]\n",
            "                --> True:\n",
            "                    Leaf: Predict 1\n",
            "                --> False:\n",
            "                    Leaf: Predict 0\n",
            "        --> False:\n",
            "            [X2 <= 0.0986]\n",
            "            --> True:\n",
            "                [X1 <= 5.0155]\n",
            "                --> True:\n",
            "                    Leaf: Predict 1\n",
            "                --> False:\n",
            "                    Leaf: Predict 0\n",
            "            --> False:\n",
            "                [X3 <= 0.7254]\n",
            "                --> True:\n",
            "                    Leaf: Predict 0\n",
            "                --> False:\n",
            "                    Leaf: Predict 1\n",
            "    --> False:\n",
            "        [X0 <= -5.1636]\n",
            "        --> True:\n",
            "            [X0 <= -7.0402]\n",
            "            --> True:\n",
            "                Leaf: Predict 1\n",
            "            --> False:\n",
            "                [X0 <= -6.9581]\n",
            "                --> True:\n",
            "                    Leaf: Predict 1\n",
            "                --> False:\n",
            "                    Leaf: Predict 1\n",
            "        --> False:\n",
            "            [X0 <= -4.2813]\n",
            "            --> True:\n",
            "                Leaf: Predict 0\n",
            "            --> False:\n",
            "                [X0 <= -2.7113]\n",
            "                --> True:\n",
            "                    Leaf: Predict 0\n",
            "                --> False:\n",
            "                    Leaf: Predict 0\n",
            "--> False:\n",
            "    [X2 <= -4.4643]\n",
            "    --> True:\n",
            "        [X0 <= 2.3938]\n",
            "        --> True:\n",
            "            [X0 <= 0.3353]\n",
            "            --> True:\n",
            "                Leaf: Predict 1\n",
            "            --> False:\n",
            "                [X0 <= 0.4756]\n",
            "                --> True:\n",
            "                    Leaf: Predict 1\n",
            "                --> False:\n",
            "                    Leaf: Predict 1\n",
            "        --> False:\n",
            "            Leaf: Predict 0\n",
            "    --> False:\n",
            "        [X0 <= 1.5908]\n",
            "        --> True:\n",
            "            [X2 <= -3.0474]\n",
            "            --> True:\n",
            "                [X0 <= 0.4891]\n",
            "                --> True:\n",
            "                    Leaf: Predict 1\n",
            "                --> False:\n",
            "                    Leaf: Predict 1\n",
            "            --> False:\n",
            "                [X3 <= -0.0641]\n",
            "                --> True:\n",
            "                    Leaf: Predict 0\n",
            "                --> False:\n",
            "                    Leaf: Predict 0\n",
            "        --> False:\n",
            "            [X0 <= 2.0358]\n",
            "            --> True:\n",
            "                [X2 <= -2.9481]\n",
            "                --> True:\n",
            "                    Leaf: Predict 1\n",
            "                --> False:\n",
            "                    Leaf: Predict 0\n",
            "            --> False:\n",
            "                [X0 <= 2.0511]\n",
            "                --> True:\n",
            "                    Leaf: Predict 0\n",
            "                --> False:\n",
            "                    Leaf: Predict 0\n"
          ]
        }
      ]
    },
    {
      "cell_type": "code",
      "source": [
        "# Count how many times each feature was split on\n",
        "def count_feature_splits(node, counter):\n",
        "    if node.label is not None:\n",
        "        return\n",
        "    counter[node.split_feature] += 1\n",
        "    count_feature_splits(node.left, counter)\n",
        "    count_feature_splits(node.right, counter)\n",
        "\n",
        "# Print feature importance\n",
        "feature_counter = defaultdict(int)\n",
        "count_feature_splits(root, feature_counter)\n",
        "print(\"\\nFeature Importance (by split frequency):\")\n",
        "for feat, count in sorted(feature_counter.items()):\n",
        "    print(f\"Feature {feat}: {count} splits\")\n"
      ],
      "metadata": {
        "colab": {
          "base_uri": "https://localhost:8080/"
        },
        "id": "-vCxlWhSiRro",
        "outputId": "d85c8e64-07f5-4760-e43d-d618a3b38337"
      },
      "execution_count": 22,
      "outputs": [
        {
          "output_type": "stream",
          "name": "stdout",
          "text": [
            "\n",
            "Feature Importance (by split frequency):\n",
            "Feature 0: 15 splits\n",
            "Feature 1: 3 splits\n",
            "Feature 2: 5 splits\n",
            "Feature 3: 2 splits\n"
          ]
        }
      ]
    }
  ]
}